{
  "nbformat": 4,
  "nbformat_minor": 0,
  "metadata": {
    "colab": {
      "provenance": []
    },
    "kernelspec": {
      "name": "python3",
      "display_name": "Python 3"
    },
    "language_info": {
      "name": "python"
    }
  },
  "cells": [
    {
      "cell_type": "code",
      "execution_count": 9,
      "metadata": {
        "id": "Q1J9VlNhP4rk"
      },
      "outputs": [],
      "source": [
        "import numpy as np\n",
        "import pandas as pd\n",
        "from sklearn.model_selection import train_test_split\n",
        "from sklearn.preprocessing import StandardScaler\n",
        "from sklearn.metrics import mean_squared_error\n",
        "from tensorflow.keras.datasets import boston_housing\n",
        "import tensorflow as tf\n",
        "from tensorflow.keras.models import Sequential\n",
        "from tensorflow.keras.layers import Dense"
      ]
    },
    {
      "cell_type": "code",
      "source": [
        "(X_train,Y_train),(X_test,Y_test) = boston_housing.load_data()"
      ],
      "metadata": {
        "id": "Vod0R_hUQRAP"
      },
      "execution_count": 20,
      "outputs": []
    },
    {
      "cell_type": "code",
      "source": [
        "scalar = StandardScaler()"
      ],
      "metadata": {
        "id": "Rsjmn4_BQxe1"
      },
      "execution_count": 11,
      "outputs": []
    },
    {
      "cell_type": "code",
      "source": [
        "scalar.fit_transform(X_train)\n",
        "scalar.transform(X_test)"
      ],
      "metadata": {
        "colab": {
          "base_uri": "https://localhost:8080/"
        },
        "id": "I-xT7DuKQ3wb",
        "outputId": "fe0c2a6a-f657-4b77-e05a-a602bc87dccd"
      },
      "execution_count": 12,
      "outputs": [
        {
          "output_type": "execute_result",
          "data": {
            "text/plain": [
              "array([[ 1.55369355, -0.48361547,  1.0283258 , ...,  0.78447637,\n",
              "        -3.48459553,  2.25092074],\n",
              "       [-0.39242675, -0.48361547, -0.16087773, ..., -0.30759583,\n",
              "         0.42733126,  0.47880119],\n",
              "       [-0.39982927, -0.48361547, -0.86940196, ...,  0.78447637,\n",
              "         0.44807713, -0.41415936],\n",
              "       ...,\n",
              "       [-0.20709507, -0.48361547,  1.24588095, ..., -1.71818909,\n",
              "         0.37051949, -1.49344089],\n",
              "       [-0.36698601, -0.48361547, -0.72093526, ..., -0.48960787,\n",
              "         0.39275481, -0.41829982],\n",
              "       [-0.0889679 , -0.48361547,  1.24588095, ..., -1.71818909,\n",
              "        -1.21946544, -0.40449827]])"
            ]
          },
          "metadata": {},
          "execution_count": 12
        }
      ]
    },
    {
      "cell_type": "code",
      "source": [
        "model = Sequential()\n",
        "model.add(Dense(64, activation='relu', input_shape=(X_train.shape[1],)))\n",
        "model.add(Dense(64, activation='relu'))\n",
        "model.add(Dense(1))\n",
        "model.compile(optimizer='adam', loss='mean_squared_error')"
      ],
      "metadata": {
        "id": "2X-JNYPOSHv-"
      },
      "execution_count": 14,
      "outputs": []
    },
    {
      "cell_type": "code",
      "source": [
        "history = model.fit(X_train, y_train, epochs=100, batch_size=32, validation_split=0.2)"
      ],
      "metadata": {
        "colab": {
          "base_uri": "https://localhost:8080/"
        },
        "id": "X-gEE8OSSbEQ",
        "outputId": "621d19c1-b5da-4fc0-cd22-6c534dc2ff49"
      },
      "execution_count": 15,
      "outputs": [
        {
          "output_type": "stream",
          "name": "stdout",
          "text": [
            "Epoch 1/100\n",
            "11/11 [==============================] - 2s 21ms/step - loss: 1394.5420 - val_loss: 632.2600\n",
            "Epoch 2/100\n",
            "11/11 [==============================] - 0s 7ms/step - loss: 275.2378 - val_loss: 238.7562\n",
            "Epoch 3/100\n",
            "11/11 [==============================] - 0s 5ms/step - loss: 146.2829 - val_loss: 76.2849\n",
            "Epoch 4/100\n",
            "11/11 [==============================] - 0s 7ms/step - loss: 86.4966 - val_loss: 71.0779\n",
            "Epoch 5/100\n",
            "11/11 [==============================] - 0s 5ms/step - loss: 65.2411 - val_loss: 64.8055\n",
            "Epoch 6/100\n",
            "11/11 [==============================] - 0s 5ms/step - loss: 60.0899 - val_loss: 62.6969\n",
            "Epoch 7/100\n",
            "11/11 [==============================] - 0s 7ms/step - loss: 56.3083 - val_loss: 60.1484\n",
            "Epoch 8/100\n",
            "11/11 [==============================] - 0s 5ms/step - loss: 56.3754 - val_loss: 59.5535\n",
            "Epoch 9/100\n",
            "11/11 [==============================] - 0s 6ms/step - loss: 53.0691 - val_loss: 60.8928\n",
            "Epoch 10/100\n",
            "11/11 [==============================] - 0s 6ms/step - loss: 52.4961 - val_loss: 61.9509\n",
            "Epoch 11/100\n",
            "11/11 [==============================] - 0s 5ms/step - loss: 51.3355 - val_loss: 58.2757\n",
            "Epoch 12/100\n",
            "11/11 [==============================] - 0s 6ms/step - loss: 54.7417 - val_loss: 68.9360\n",
            "Epoch 13/100\n",
            "11/11 [==============================] - 0s 5ms/step - loss: 52.1149 - val_loss: 56.8000\n",
            "Epoch 14/100\n",
            "11/11 [==============================] - 0s 5ms/step - loss: 49.7598 - val_loss: 57.3841\n",
            "Epoch 15/100\n",
            "11/11 [==============================] - 0s 6ms/step - loss: 69.8874 - val_loss: 83.8482\n",
            "Epoch 16/100\n",
            "11/11 [==============================] - 0s 7ms/step - loss: 53.2398 - val_loss: 56.5303\n",
            "Epoch 17/100\n",
            "11/11 [==============================] - 0s 6ms/step - loss: 45.9687 - val_loss: 66.5333\n",
            "Epoch 18/100\n",
            "11/11 [==============================] - 0s 7ms/step - loss: 47.3675 - val_loss: 55.3693\n",
            "Epoch 19/100\n",
            "11/11 [==============================] - 0s 5ms/step - loss: 45.9897 - val_loss: 56.2165\n",
            "Epoch 20/100\n",
            "11/11 [==============================] - 0s 7ms/step - loss: 45.3262 - val_loss: 56.6894\n",
            "Epoch 21/100\n",
            "11/11 [==============================] - 0s 5ms/step - loss: 45.6253 - val_loss: 54.2559\n",
            "Epoch 22/100\n",
            "11/11 [==============================] - 0s 5ms/step - loss: 44.9992 - val_loss: 54.1255\n",
            "Epoch 23/100\n",
            "11/11 [==============================] - 0s 7ms/step - loss: 43.3231 - val_loss: 59.7031\n",
            "Epoch 24/100\n",
            "11/11 [==============================] - 0s 5ms/step - loss: 43.7123 - val_loss: 52.5078\n",
            "Epoch 25/100\n",
            "11/11 [==============================] - 0s 5ms/step - loss: 46.7900 - val_loss: 57.9874\n",
            "Epoch 26/100\n",
            "11/11 [==============================] - 0s 6ms/step - loss: 43.3704 - val_loss: 52.3643\n",
            "Epoch 27/100\n",
            "11/11 [==============================] - 0s 6ms/step - loss: 42.6823 - val_loss: 50.5570\n",
            "Epoch 28/100\n",
            "11/11 [==============================] - 0s 7ms/step - loss: 46.3219 - val_loss: 56.9620\n",
            "Epoch 29/100\n",
            "11/11 [==============================] - 0s 5ms/step - loss: 58.8763 - val_loss: 51.0256\n",
            "Epoch 30/100\n",
            "11/11 [==============================] - 0s 5ms/step - loss: 44.1778 - val_loss: 60.4793\n",
            "Epoch 31/100\n",
            "11/11 [==============================] - 0s 7ms/step - loss: 42.9744 - val_loss: 53.6922\n",
            "Epoch 32/100\n",
            "11/11 [==============================] - 0s 7ms/step - loss: 40.6063 - val_loss: 49.4135\n",
            "Epoch 33/100\n",
            "11/11 [==============================] - 0s 5ms/step - loss: 39.3019 - val_loss: 48.8252\n",
            "Epoch 34/100\n",
            "11/11 [==============================] - 0s 7ms/step - loss: 38.7583 - val_loss: 47.7626\n",
            "Epoch 35/100\n",
            "11/11 [==============================] - 0s 6ms/step - loss: 38.3120 - val_loss: 54.0315\n",
            "Epoch 36/100\n",
            "11/11 [==============================] - 0s 7ms/step - loss: 39.2508 - val_loss: 47.6341\n",
            "Epoch 37/100\n",
            "11/11 [==============================] - 0s 7ms/step - loss: 38.3826 - val_loss: 46.6543\n",
            "Epoch 38/100\n",
            "11/11 [==============================] - 0s 8ms/step - loss: 37.2608 - val_loss: 47.8046\n",
            "Epoch 39/100\n",
            "11/11 [==============================] - 0s 7ms/step - loss: 37.8950 - val_loss: 46.2776\n",
            "Epoch 40/100\n",
            "11/11 [==============================] - 0s 6ms/step - loss: 36.9133 - val_loss: 51.1993\n",
            "Epoch 41/100\n",
            "11/11 [==============================] - 0s 6ms/step - loss: 37.7497 - val_loss: 55.3759\n",
            "Epoch 42/100\n",
            "11/11 [==============================] - 0s 5ms/step - loss: 37.1620 - val_loss: 45.6346\n",
            "Epoch 43/100\n",
            "11/11 [==============================] - 0s 6ms/step - loss: 36.2976 - val_loss: 46.5196\n",
            "Epoch 44/100\n",
            "11/11 [==============================] - 0s 6ms/step - loss: 37.3278 - val_loss: 49.4658\n",
            "Epoch 45/100\n",
            "11/11 [==============================] - 0s 6ms/step - loss: 44.4519 - val_loss: 45.0156\n",
            "Epoch 46/100\n",
            "11/11 [==============================] - 0s 7ms/step - loss: 35.1654 - val_loss: 44.4907\n",
            "Epoch 47/100\n",
            "11/11 [==============================] - 0s 6ms/step - loss: 35.0853 - val_loss: 44.9144\n",
            "Epoch 48/100\n",
            "11/11 [==============================] - 0s 5ms/step - loss: 35.4624 - val_loss: 47.2934\n",
            "Epoch 49/100\n",
            "11/11 [==============================] - 0s 7ms/step - loss: 34.9296 - val_loss: 47.6753\n",
            "Epoch 50/100\n",
            "11/11 [==============================] - 0s 5ms/step - loss: 34.0766 - val_loss: 43.3191\n",
            "Epoch 51/100\n",
            "11/11 [==============================] - 0s 5ms/step - loss: 33.3083 - val_loss: 44.1809\n",
            "Epoch 52/100\n",
            "11/11 [==============================] - 0s 7ms/step - loss: 35.5754 - val_loss: 43.3542\n",
            "Epoch 53/100\n",
            "11/11 [==============================] - 0s 5ms/step - loss: 34.1071 - val_loss: 50.4142\n",
            "Epoch 54/100\n",
            "11/11 [==============================] - 0s 5ms/step - loss: 34.7100 - val_loss: 49.7959\n",
            "Epoch 55/100\n",
            "11/11 [==============================] - 0s 5ms/step - loss: 34.7286 - val_loss: 42.6857\n",
            "Epoch 56/100\n",
            "11/11 [==============================] - 0s 5ms/step - loss: 34.5227 - val_loss: 43.2967\n",
            "Epoch 57/100\n",
            "11/11 [==============================] - 0s 5ms/step - loss: 33.1970 - val_loss: 43.5660\n",
            "Epoch 58/100\n",
            "11/11 [==============================] - 0s 5ms/step - loss: 34.3856 - val_loss: 42.1290\n",
            "Epoch 59/100\n",
            "11/11 [==============================] - 0s 6ms/step - loss: 33.1700 - val_loss: 43.9791\n",
            "Epoch 60/100\n",
            "11/11 [==============================] - 0s 5ms/step - loss: 33.5725 - val_loss: 40.8086\n",
            "Epoch 61/100\n",
            "11/11 [==============================] - 0s 5ms/step - loss: 33.0284 - val_loss: 41.1796\n",
            "Epoch 62/100\n",
            "11/11 [==============================] - 0s 6ms/step - loss: 33.2049 - val_loss: 41.6355\n",
            "Epoch 63/100\n",
            "11/11 [==============================] - 0s 7ms/step - loss: 32.0990 - val_loss: 41.6617\n",
            "Epoch 64/100\n",
            "11/11 [==============================] - 0s 7ms/step - loss: 32.3649 - val_loss: 49.2146\n",
            "Epoch 65/100\n",
            "11/11 [==============================] - 0s 7ms/step - loss: 33.4072 - val_loss: 44.7085\n",
            "Epoch 66/100\n",
            "11/11 [==============================] - 0s 6ms/step - loss: 31.8789 - val_loss: 40.2156\n",
            "Epoch 67/100\n",
            "11/11 [==============================] - 0s 8ms/step - loss: 33.4735 - val_loss: 42.4285\n",
            "Epoch 68/100\n",
            "11/11 [==============================] - 0s 5ms/step - loss: 30.9873 - val_loss: 40.9806\n",
            "Epoch 69/100\n",
            "11/11 [==============================] - 0s 7ms/step - loss: 34.2509 - val_loss: 47.2713\n",
            "Epoch 70/100\n",
            "11/11 [==============================] - 0s 5ms/step - loss: 34.3845 - val_loss: 47.3775\n",
            "Epoch 71/100\n",
            "11/11 [==============================] - 0s 7ms/step - loss: 36.5050 - val_loss: 57.9309\n",
            "Epoch 72/100\n",
            "11/11 [==============================] - 0s 5ms/step - loss: 33.8864 - val_loss: 42.2520\n",
            "Epoch 73/100\n",
            "11/11 [==============================] - 0s 5ms/step - loss: 31.3427 - val_loss: 38.9818\n",
            "Epoch 74/100\n",
            "11/11 [==============================] - 0s 5ms/step - loss: 31.8417 - val_loss: 42.7543\n",
            "Epoch 75/100\n",
            "11/11 [==============================] - 0s 5ms/step - loss: 30.7860 - val_loss: 41.1016\n",
            "Epoch 76/100\n",
            "11/11 [==============================] - 0s 5ms/step - loss: 30.7844 - val_loss: 49.6272\n",
            "Epoch 77/100\n",
            "11/11 [==============================] - 0s 7ms/step - loss: 33.6225 - val_loss: 50.9652\n",
            "Epoch 78/100\n",
            "11/11 [==============================] - 0s 5ms/step - loss: 30.1187 - val_loss: 39.0813\n",
            "Epoch 79/100\n",
            "11/11 [==============================] - 0s 7ms/step - loss: 29.8434 - val_loss: 41.6885\n",
            "Epoch 80/100\n",
            "11/11 [==============================] - 0s 6ms/step - loss: 30.1617 - val_loss: 50.1135\n",
            "Epoch 81/100\n",
            "11/11 [==============================] - 0s 5ms/step - loss: 60.5895 - val_loss: 63.5296\n",
            "Epoch 82/100\n",
            "11/11 [==============================] - 0s 7ms/step - loss: 45.2915 - val_loss: 41.4986\n",
            "Epoch 83/100\n",
            "11/11 [==============================] - 0s 7ms/step - loss: 31.7656 - val_loss: 38.4082\n",
            "Epoch 84/100\n",
            "11/11 [==============================] - 0s 6ms/step - loss: 31.9729 - val_loss: 38.0950\n",
            "Epoch 85/100\n",
            "11/11 [==============================] - 0s 5ms/step - loss: 30.1857 - val_loss: 43.0426\n",
            "Epoch 86/100\n",
            "11/11 [==============================] - 0s 7ms/step - loss: 31.2837 - val_loss: 39.2537\n",
            "Epoch 87/100\n",
            "11/11 [==============================] - 0s 7ms/step - loss: 28.4749 - val_loss: 38.1526\n",
            "Epoch 88/100\n",
            "11/11 [==============================] - 0s 5ms/step - loss: 28.8384 - val_loss: 38.3768\n",
            "Epoch 89/100\n",
            "11/11 [==============================] - 0s 5ms/step - loss: 31.7231 - val_loss: 38.0828\n",
            "Epoch 90/100\n",
            "11/11 [==============================] - 0s 5ms/step - loss: 29.8703 - val_loss: 38.5968\n",
            "Epoch 91/100\n",
            "11/11 [==============================] - 0s 5ms/step - loss: 30.8691 - val_loss: 38.7161\n",
            "Epoch 92/100\n",
            "11/11 [==============================] - 0s 5ms/step - loss: 28.3594 - val_loss: 38.2922\n",
            "Epoch 93/100\n",
            "11/11 [==============================] - 0s 7ms/step - loss: 28.7143 - val_loss: 40.7989\n",
            "Epoch 94/100\n",
            "11/11 [==============================] - 0s 6ms/step - loss: 30.8995 - val_loss: 44.9194\n",
            "Epoch 95/100\n",
            "11/11 [==============================] - 0s 6ms/step - loss: 35.0622 - val_loss: 40.4984\n",
            "Epoch 96/100\n",
            "11/11 [==============================] - 0s 8ms/step - loss: 34.2039 - val_loss: 42.4831\n",
            "Epoch 97/100\n",
            "11/11 [==============================] - 0s 5ms/step - loss: 30.7149 - val_loss: 40.2960\n",
            "Epoch 98/100\n",
            "11/11 [==============================] - 0s 7ms/step - loss: 29.0471 - val_loss: 37.6390\n",
            "Epoch 99/100\n",
            "11/11 [==============================] - 0s 5ms/step - loss: 30.0254 - val_loss: 41.7579\n",
            "Epoch 100/100\n",
            "11/11 [==============================] - 0s 5ms/step - loss: 32.6945 - val_loss: 38.5242\n"
          ]
        }
      ]
    },
    {
      "cell_type": "code",
      "source": [
        "y_pred = model.predict(X_test)"
      ],
      "metadata": {
        "colab": {
          "base_uri": "https://localhost:8080/"
        },
        "id": "elPLd2ckShyJ",
        "outputId": "eaf783a6-f220-457a-c41d-7c555e2ebd28"
      },
      "execution_count": 16,
      "outputs": [
        {
          "output_type": "stream",
          "name": "stdout",
          "text": [
            "4/4 [==============================] - 0s 4ms/step\n"
          ]
        }
      ]
    },
    {
      "cell_type": "code",
      "source": [
        "mse = mean_squared_error(Y_test, y_pred)\n",
        "print(\"Mean Squared Error:\", mse)"
      ],
      "metadata": {
        "colab": {
          "base_uri": "https://localhost:8080/"
        },
        "id": "kdaZ4UK8SlLM",
        "outputId": "50db4bee-6ccf-4420-8a63-709583b37436"
      },
      "execution_count": 21,
      "outputs": [
        {
          "output_type": "stream",
          "name": "stdout",
          "text": [
            "Mean Squared Error: 35.682381017777075\n"
          ]
        }
      ]
    }
  ]
}